{
 "cells": [
  {
   "cell_type": "markdown",
   "id": "b2c250ad-e656-4209-aa5a-4848ba73850d",
   "metadata": {},
   "source": [
    "# Outils et Écosystème de la Science des Données"
   ]
  },
  {
   "cell_type": "markdown",
   "id": "b91b1375-e568-49a6-aad5-6fd95ceb7002",
   "metadata": {},
   "source": [
    "Dans ce notebook, les outils et l'écosystème de la science des données sont résumés."
   ]
  },
  {
   "cell_type": "markdown",
   "id": "8afef316-b9f8-4e20-b7a8-8266c2c9e687",
   "metadata": {},
   "source": [
    "**Objectifs :**\n",
    "* Lister les langages populaires pour la Science des Données\n",
    "* Lister les bibliothèques couramment utilisées pour la Science des Données\n",
    "* Lister les outils pour la Science des données\n",
    "* Enumèerer quelques opèrtations arithmètiques en Python"
   ]
  },
  {
   "cell_type": "markdown",
   "id": "03f7eaf0-06ff-4562-8e28-a0ca0a672837",
   "metadata": {},
   "source": [
    "Certains des langages populaires utilisés par les Data Scientists sont :Julia, Python, R, Scala"
   ]
  },
  {
   "cell_type": "markdown",
   "id": "a0410a22-3804-491d-900e-8065149b3ecf",
   "metadata": {},
   "source": [
    "Certaines des bibliothèques couramment utilisées par les Data Scientists incluent : Matplotlib, Numpy, Pandas, Scikit_Learn"
   ]
  },
  {
   "cell_type": "markdown",
   "id": "88b5b0f8-2493-48aa-a732-b84f84ac3d13",
   "metadata": {},
   "source": [
    "Outils de la Science des Données\n",
    "--------------------------------\n",
    "Jupyter notebook\n",
    "--------------------------------\n",
    "RStudio\n",
    "--------------------------------\n",
    "Spyder\n",
    "--------------------------------"
   ]
  },
  {
   "cell_type": "markdown",
   "id": "947fba09-847f-4e09-8759-cc4bdf012dae",
   "metadata": {},
   "source": [
    "### Voici quelques exemples d'évaluation d'expressions arithmétiques en Python\n",
    "2+3, 2*3, 2/3"
   ]
  },
  {
   "cell_type": "code",
   "execution_count": 8,
   "id": "b9b253cc-76b2-477d-804f-72538ff8e590",
   "metadata": {},
   "outputs": [
    {
     "data": {
      "text/plain": [
       "17"
      ]
     },
     "execution_count": 8,
     "metadata": {},
     "output_type": "execute_result"
    }
   ],
   "source": [
    "# Ceci est une expression arithmétique simple pour multiplier puis additionner des entiers\n",
    "(3*4)+5"
   ]
  },
  {
   "cell_type": "code",
   "execution_count": 9,
   "id": "b37cc846-df7d-441e-990a-c60f4b5826cb",
   "metadata": {},
   "outputs": [
    {
     "name": "stdout",
     "output_type": "stream",
     "text": [
      "3.3333333333333335\n"
     ]
    }
   ],
   "source": [
    "# Cela convertira 200 minutes en heures en divisant par 60\n",
    "min = 200\n",
    "heures = min/60\n",
    "print(heures)"
   ]
  },
  {
   "cell_type": "markdown",
   "id": "be6883bd-b1f1-4d75-9f81-24058822775c",
   "metadata": {},
   "source": [
    "## Auteur\n",
    "Ousmane Diallo"
   ]
  },
  {
   "cell_type": "code",
   "execution_count": null,
   "id": "e959db52-7365-4253-865c-0ac07b21228c",
   "metadata": {},
   "outputs": [],
   "source": []
  }
 ],
 "metadata": {
  "kernelspec": {
   "display_name": "Python 3 (ipykernel)",
   "language": "python",
   "name": "python3"
  },
  "language_info": {
   "codemirror_mode": {
    "name": "ipython",
    "version": 3
   },
   "file_extension": ".py",
   "mimetype": "text/x-python",
   "name": "python",
   "nbconvert_exporter": "python",
   "pygments_lexer": "ipython3",
   "version": "3.11.5"
  }
 },
 "nbformat": 4,
 "nbformat_minor": 5
}
